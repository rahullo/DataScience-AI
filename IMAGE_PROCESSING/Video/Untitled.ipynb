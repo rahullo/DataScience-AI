{
 "cells": [
  {
   "cell_type": "code",
   "execution_count": 1,
   "id": "669f64cd",
   "metadata": {},
   "outputs": [],
   "source": [
    "import cv2\n",
    "import numpy as np"
   ]
  },
  {
   "cell_type": "code",
   "execution_count": 2,
   "id": "15ffa2ab",
   "metadata": {},
   "outputs": [],
   "source": [
    "cap = cv2.VideoCapture(0)  # Replace 0 with video filename if needed\n",
    "\n",
    "if not cap.isOpened():\n",
    "  print(\"Error opening video capture object\")\n",
    "  # Handle the error here (exit program etc.)"
   ]
  },
  {
   "cell_type": "code",
   "execution_count": 5,
   "id": "5c88e10b",
   "metadata": {},
   "outputs": [],
   "source": [
    "while True:\n",
    "  # Capture frame-by-frame\n",
    "  ret, frame = cap.read()\n",
    "\n",
    "  # Check if frame is read correctly\n",
    "  if not ret:\n",
    "    print(\"Can't receive frame (stream end?). Exiting...\")\n",
    "    break\n",
    "\n",
    "  # Display the resulting frame\n",
    "  cv2.imshow('Video', frame)\n",
    "\n",
    "  # Exit loop if 'q' key is pressed\n",
    "  if cv2.waitKey(1) == ord('q'):\n",
    "    break\n",
    "\n",
    "# Release the capture object and close windows\n",
    "cap.release()\n",
    "cv2.destroyAllWindows()\n"
   ]
  },
  {
   "cell_type": "code",
   "execution_count": null,
   "id": "b3c9f20e",
   "metadata": {},
   "outputs": [],
   "source": []
  }
 ],
 "metadata": {
  "kernelspec": {
   "display_name": "Python 3 (ipykernel)",
   "language": "python",
   "name": "python3"
  },
  "language_info": {
   "codemirror_mode": {
    "name": "ipython",
    "version": 3
   },
   "file_extension": ".py",
   "mimetype": "text/x-python",
   "name": "python",
   "nbconvert_exporter": "python",
   "pygments_lexer": "ipython3",
   "version": "3.9.7"
  }
 },
 "nbformat": 4,
 "nbformat_minor": 5
}
