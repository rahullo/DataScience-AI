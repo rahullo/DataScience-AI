{
 "cells": [
  {
   "cell_type": "code",
   "execution_count": 1,
   "id": "6d534f1b",
   "metadata": {},
   "outputs": [],
   "source": [
    "import numpy as np\n",
    "import cv2"
   ]
  },
  {
   "cell_type": "code",
   "execution_count": 2,
   "id": "dd38b575",
   "metadata": {},
   "outputs": [],
   "source": [
    "image = cv2.imread('../IMAGES/flowerTemplate.jpg', 0)"
   ]
  },
  {
   "cell_type": "code",
   "execution_count": 3,
   "id": "ebf4a293",
   "metadata": {},
   "outputs": [
    {
     "data": {
      "text/plain": [
       "(42, 50)"
      ]
     },
     "execution_count": 3,
     "metadata": {},
     "output_type": "execute_result"
    }
   ],
   "source": [
    "image.shape"
   ]
  },
  {
   "cell_type": "code",
   "execution_count": 4,
   "id": "d224566e",
   "metadata": {
    "scrolled": true
   },
   "outputs": [
    {
     "data": {
      "text/plain": [
       "array([[ 0,  0,  0, ...,  1,  1,  1],\n",
       "       [ 0,  0,  0, ...,  1,  0,  1],\n",
       "       [ 0,  0,  0, ...,  2,  2,  1],\n",
       "       ...,\n",
       "       [ 0,  0,  0, ..., 22, 24, 24],\n",
       "       [ 0,  0,  0, ..., 21, 22, 24],\n",
       "       [ 0,  0,  0, ..., 19, 22, 24]], dtype=uint8)"
      ]
     },
     "execution_count": 4,
     "metadata": {},
     "output_type": "execute_result"
    }
   ],
   "source": [
    "image"
   ]
  },
  {
   "cell_type": "code",
   "execution_count": 5,
   "id": "83f2dac7",
   "metadata": {},
   "outputs": [
    {
     "data": {
      "text/plain": [
       "numpy.ndarray"
      ]
     },
     "execution_count": 5,
     "metadata": {},
     "output_type": "execute_result"
    }
   ],
   "source": [
    "type(image)"
   ]
  },
  {
   "cell_type": "code",
   "execution_count": 6,
   "id": "62cde52e",
   "metadata": {},
   "outputs": [],
   "source": [
    "import random\n",
    "arr1 = [[random.randint(0, 255) for _ in range(50)] for _ in range(50)]"
   ]
  },
  {
   "cell_type": "code",
   "execution_count": 7,
   "id": "2cc08878",
   "metadata": {},
   "outputs": [],
   "source": [
    "arr1 = np.random.randint(0, 255, size=(100, 100), dtype=np.uint8)"
   ]
  },
  {
   "cell_type": "code",
   "execution_count": 8,
   "id": "f9a40893",
   "metadata": {},
   "outputs": [
    {
     "data": {
      "text/plain": [
       "True"
      ]
     },
     "execution_count": 8,
     "metadata": {},
     "output_type": "execute_result"
    }
   ],
   "source": [
    "type(image) == type(arr1)"
   ]
  },
  {
   "cell_type": "code",
   "execution_count": 9,
   "id": "c97ba2cf",
   "metadata": {},
   "outputs": [],
   "source": [
    "random_image = cv2.cvtColor(arr1, cv2.COLOR_GRAY2BGR)"
   ]
  },
  {
   "cell_type": "code",
   "execution_count": 10,
   "id": "34e2db1d",
   "metadata": {},
   "outputs": [],
   "source": [
    "cv2.imshow('Image', random_image)\n",
    "cv2.waitKey(0)\n",
    "cv2.destroyAllWindows()"
   ]
  },
  {
   "cell_type": "code",
   "execution_count": null,
   "id": "d864431c",
   "metadata": {},
   "outputs": [],
   "source": []
  }
 ],
 "metadata": {
  "kernelspec": {
   "display_name": "Python 3 (ipykernel)",
   "language": "python",
   "name": "python3"
  },
  "language_info": {
   "codemirror_mode": {
    "name": "ipython",
    "version": 3
   },
   "file_extension": ".py",
   "mimetype": "text/x-python",
   "name": "python",
   "nbconvert_exporter": "python",
   "pygments_lexer": "ipython3",
   "version": "3.9.7"
  }
 },
 "nbformat": 4,
 "nbformat_minor": 5
}
