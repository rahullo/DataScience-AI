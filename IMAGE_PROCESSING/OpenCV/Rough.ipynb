{
 "cells": [
  {
   "cell_type": "code",
   "execution_count": 1,
   "id": "74687209",
   "metadata": {},
   "outputs": [],
   "source": [
    "import numpy as np\n",
    "import cv2\n",
    "import pandas as pd\n",
    "import matplotlib.pyplot as plt "
   ]
  },
  {
   "cell_type": "code",
   "execution_count": 2,
   "id": "eb9a2636",
   "metadata": {},
   "outputs": [
    {
     "data": {
      "text/plain": [
       "array([[2, 7, 5, 4, 7, 9, 1, 7, 3, 3],\n",
       "       [4, 2, 3, 2, 6, 7, 1, 9, 2, 2],\n",
       "       [4, 1, 6, 5, 0, 9, 2, 2, 6, 0],\n",
       "       [1, 3, 5, 5, 6, 9, 5, 8, 3, 0],\n",
       "       [2, 5, 4, 5, 3, 8, 0, 3, 9, 0],\n",
       "       [1, 5, 6, 2, 9, 7, 0, 6, 8, 4],\n",
       "       [4, 3, 1, 2, 6, 3, 0, 6, 5, 0],\n",
       "       [5, 5, 6, 1, 6, 2, 6, 6, 2, 1],\n",
       "       [4, 3, 8, 3, 5, 5, 0, 2, 5, 0],\n",
       "       [9, 0, 0, 0, 0, 5, 7, 3, 3, 0]], dtype=uint8)"
      ]
     },
     "execution_count": 2,
     "metadata": {},
     "output_type": "execute_result"
    }
   ],
   "source": [
    "arr1 = np.random.randint(0, 10, size=(10, 10), dtype=(np.uint8))\n",
    "arr1"
   ]
  },
  {
   "cell_type": "code",
   "execution_count": 3,
   "id": "aed8becf",
   "metadata": {},
   "outputs": [
    {
     "data": {
      "image/png": "[encoded data removed]",
      "text/plain": [
       "<Figure size 432x288 with 1 Axes>"
      ]
     },
     "metadata": {
      "needs_background": "light"
     },
     "output_type": "display_data"
    }
   ],
   "source": [
    "plt.hist(arr1, bins=5, color=['skyblue', 'red', 'black', 'green', 'yellow', 'orange', 'blue', 'cyan','magenta', 'green'])\n",
    "plt.xlabel('Grayscale')\n",
    "plt.ylabel('Frequency')\n",
    "plt.title('Image Histogram')\n",
    "plt.xticks(np.arange(0, 10))\n",
    "plt.show()"
   ]
  },
  {
   "cell_type": "code",
   "execution_count": 4,
   "id": "ed9bc5f3",
   "metadata": {},
   "outputs": [
    {
     "data": {
      "text/plain": [
       "array([15,  8, 13, 13,  7, 15, 12,  6,  4,  7], dtype=int64)"
      ]
     },
     "execution_count": 4,
     "metadata": {},
     "output_type": "execute_result"
    }
   ],
   "source": [
    "unique_elements, counts = np.unique(arr1, return_counts=True)\n",
    "counts"
   ]
  },
  {
   "cell_type": "code",
   "execution_count": 5,
   "id": "0b127a49",
   "metadata": {},
   "outputs": [
    {
     "data": {
      "text/plain": [
       "<BarContainer object of 10 artists>"
      ]
     },
     "execution_count": 5,
     "metadata": {},
     "output_type": "execute_result"
    },
    {
     "data": {
      "image/png": "[encoded data removed]",
      "text/plain": [
       "<Figure size 432x288 with 1 Axes>"
      ]
     },
     "metadata": {
      "needs_background": "light"
     },
     "output_type": "display_data"
    }
   ],
   "source": [
    "plt.bar(unique_elements, counts)"
   ]
  },
  {
   "cell_type": "code",
   "execution_count": 6,
   "id": "c4022d37",
   "metadata": {},
   "outputs": [
    {
     "data": {
      "image/png": "[encoded data removed]",
      "text/plain": [
       "<Figure size 432x288 with 1 Axes>"
      ]
     },
     "metadata": {
      "needs_background": "light"
     },
     "output_type": "display_data"
    }
   ],
   "source": [
    "arr2 = [8, 12, 21, 19, 9, 10, 11, 13, 20]\n",
    "plt.hist(arr2, bins=20, color='red')\n",
    "plt.xticks(range(0, 20))\n",
    "plt.show()"
   ]
  },
  {
   "cell_type": "code",
   "execution_count": 7,
   "id": "ed5bbc22",
   "metadata": {},
   "outputs": [
    {
     "data": {
      "text/plain": [
       "array([[9, 1, 8, 5, 1],\n",
       "       [9, 3, 5, 4, 2],\n",
       "       [7, 3, 8, 9, 4],\n",
       "       [8, 6, 4, 8, 7]], dtype=uint8)"
      ]
     },
     "execution_count": 7,
     "metadata": {},
     "output_type": "execute_result"
    }
   ],
   "source": [
    "image = np.random.randint(1, 10, size=(4, 5), dtype=np.uint8)\n",
    "image"
   ]
  },
  {
   "cell_type": "code",
   "execution_count": 18,
   "id": "27c6e03b",
   "metadata": {},
   "outputs": [
    {
     "data": {
      "text/plain": [
       "array([[9, 9, 1, 8, 5, 1, 1],\n",
       "       [9, 9, 1, 8, 5, 1, 1],\n",
       "       [9, 9, 3, 5, 4, 2, 2],\n",
       "       [7, 7, 3, 8, 9, 4, 4],\n",
       "       [8, 8, 6, 4, 8, 7, 7],\n",
       "       [8, 8, 6, 4, 8, 7, 7]], dtype=uint8)"
      ]
     },
     "execution_count": 18,
     "metadata": {},
     "output_type": "execute_result"
    }
   ],
   "source": [
    "padded_image = np.pad(image, 1, mode='edge')\n",
    "padded_image"
   ]
  },
  {
   "cell_type": "code",
   "execution_count": 21,
   "id": "c679df42",
   "metadata": {},
   "outputs": [
    {
     "name": "stdout",
     "output_type": "stream",
     "text": [
      "[[9 9 1]\n",
      " [9 9 1]\n",
      " [9 9 3]]\n",
      "\n",
      "\n",
      "[[9 1 8]\n",
      " [9 1 8]\n",
      " [9 3 5]]\n",
      "\n",
      "\n",
      "[[1 8 5]\n",
      " [1 8 5]\n",
      " [3 5 4]]\n",
      "\n",
      "\n",
      "[[8 5 1]\n",
      " [8 5 1]\n",
      " [5 4 2]]\n",
      "\n",
      "\n",
      "[[5 1 1]\n",
      " [5 1 1]\n",
      " [4 2 2]]\n",
      "\n",
      "\n",
      "[[9 9 1]\n",
      " [9 9 3]\n",
      " [7 7 3]]\n",
      "\n",
      "\n",
      "[[9 1 8]\n",
      " [9 3 5]\n",
      " [7 3 8]]\n",
      "\n",
      "\n",
      "[[1 8 5]\n",
      " [3 5 4]\n",
      " [3 8 9]]\n",
      "\n",
      "\n",
      "[[8 5 1]\n",
      " [5 4 2]\n",
      " [8 9 4]]\n",
      "\n",
      "\n",
      "[[5 1 1]\n",
      " [4 2 2]\n",
      " [9 4 4]]\n",
      "\n",
      "\n",
      "[[9 9 3]\n",
      " [7 7 3]\n",
      " [8 8 6]]\n",
      "\n",
      "\n",
      "[[9 3 5]\n",
      " [7 3 8]\n",
      " [8 6 4]]\n",
      "\n",
      "\n",
      "[[3 5 4]\n",
      " [3 8 9]\n",
      " [6 4 8]]\n",
      "\n",
      "\n",
      "[[5 4 2]\n",
      " [8 9 4]\n",
      " [4 8 7]]\n",
      "\n",
      "\n",
      "[[4 2 2]\n",
      " [9 4 4]\n",
      " [8 7 7]]\n",
      "\n",
      "\n",
      "[[7 7 3]\n",
      " [8 8 6]\n",
      " [8 8 6]]\n",
      "\n",
      "\n",
      "[[7 3 8]\n",
      " [8 6 4]\n",
      " [8 6 4]]\n",
      "\n",
      "\n",
      "[[3 8 9]\n",
      " [6 4 8]\n",
      " [6 4 8]]\n",
      "\n",
      "\n",
      "[[8 9 4]\n",
      " [4 8 7]\n",
      " [4 8 7]]\n",
      "\n",
      "\n",
      "[[9 4 4]\n",
      " [8 7 7]\n",
      " [8 7 7]]\n",
      "\n",
      "\n"
     ]
    }
   ],
   "source": [
    "for i in range(1, padded_image.shape[0]-1):\n",
    "    for j in range(1, padded_image.shape[1]-1):\n",
    "        print(padded_image[i-1:i+2, j-1:j+2])\n",
    "        print('\\n')"
   ]
  },
  {
   "cell_type": "code",
   "execution_count": 11,
   "id": "fb926e6a",
   "metadata": {},
   "outputs": [
    {
     "data": {
      "text/plain": [
       "array([[0, 0, 0, 0, 0],\n",
       "       [0, 0, 0, 0, 0],\n",
       "       [0, 0, 0, 0, 0],\n",
       "       [0, 0, 0, 0, 0]], dtype=uint8)"
      ]
     },
     "execution_count": 11,
     "metadata": {},
     "output_type": "execute_result"
    }
   ],
   "source": [
    "filtered_image = np.zeros_like(image)\n",
    "filtered_image"
   ]
  },
  {
   "cell_type": "code",
   "execution_count": null,
   "id": "0cceccac",
   "metadata": {},
   "outputs": [],
   "source": []
  }
 ],
 "metadata": {
  "kernelspec": {
   "display_name": "Python 3 (ipykernel)",
   "language": "python",
   "name": "python3"
  },
  "language_info": {
   "codemirror_mode": {
    "name": "ipython",
    "version": 3
   },
   "file_extension": ".py",
   "mimetype": "text/x-python",
   "name": "python",
   "nbconvert_exporter": "python",
   "pygments_lexer": "ipython3",
   "version": "3.9.7"
  }
 },
 "nbformat": 4,
 "nbformat_minor": 5
}
