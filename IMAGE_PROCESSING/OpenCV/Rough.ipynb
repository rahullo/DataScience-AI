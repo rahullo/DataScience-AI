{
 "cells": [
  {
   "cell_type": "code",
   "execution_count": 1,
   "id": "74687209",
   "metadata": {},
   "outputs": [],
   "source": [
    "import numpy as np\n",
    "import cv2\n",
    "import pandas as pd\n",
    "import matplotlib.pyplot as plt "
   ]
  },
  {
   "cell_type": "code",
   "execution_count": 2,
   "id": "eb9a2636",
   "metadata": {},
   "outputs": [
    {
     "data": {
      "text/plain": [
       "array([[0, 8, 4, 7, 7, 1, 3, 6, 0, 8],\n",
       "       [0, 5, 5, 4, 6, 0, 3, 3, 4, 0],\n",
       "       [8, 5, 0, 2, 4, 6, 6, 0, 7, 1],\n",
       "       [0, 3, 7, 9, 0, 5, 0, 7, 0, 7],\n",
       "       [5, 9, 4, 9, 2, 6, 3, 7, 7, 7],\n",
       "       [3, 4, 0, 2, 6, 4, 5, 2, 9, 5],\n",
       "       [1, 6, 0, 8, 7, 1, 7, 7, 3, 6],\n",
       "       [1, 4, 5, 5, 5, 4, 1, 2, 5, 4],\n",
       "       [2, 9, 7, 5, 2, 7, 5, 0, 6, 2],\n",
       "       [0, 3, 9, 0, 6, 4, 4, 3, 6, 7]], dtype=uint8)"
      ]
     },
     "execution_count": 2,
     "metadata": {},
     "output_type": "execute_result"
    }
   ],
   "source": [
    "arr1 = np.random.randint(0, 10, size=(10, 10), dtype=(np.uint8))\n",
    "arr1"
   ]
  },
  {
   "cell_type": "code",
   "execution_count": 13,
   "id": "aed8becf",
   "metadata": {},
   "outputs": [
    {
     "data": {
      "image/png": "[encoded data removed]",
      "text/plain": [
       "<Figure size 432x288 with 1 Axes>"
      ]
     },
     "metadata": {
      "needs_background": "light"
     },
     "output_type": "display_data"
    }
   ],
   "source": [
    "plt.hist(arr1, bins=5, color=['skyblue', 'red', 'black', 'green', 'yellow', 'orange', 'blue', 'cyan','magenta', 'green'])\n",
    "plt.xlabel('Grayscale')\n",
    "plt.ylabel('Frequency')\n",
    "plt.title('Image Histogram')\n",
    "plt.xticks(np.arange(0, 10))\n",
    "plt.show()"
   ]
  },
  {
   "cell_type": "code",
   "execution_count": 16,
   "id": "ed9bc5f3",
   "metadata": {},
   "outputs": [
    {
     "data": {
      "text/plain": [
       "array([16,  6,  8,  9, 12, 13, 11, 15,  4,  6], dtype=int64)"
      ]
     },
     "execution_count": 16,
     "metadata": {},
     "output_type": "execute_result"
    }
   ],
   "source": [
    "unique_elements, counts = np.unique(arr1, return_counts=True)\n",
    "counts"
   ]
  },
  {
   "cell_type": "code",
   "execution_count": 18,
   "id": "0b127a49",
   "metadata": {},
   "outputs": [
    {
     "data": {
      "text/plain": [
       "<BarContainer object of 10 artists>"
      ]
     },
     "execution_count": 18,
     "metadata": {},
     "output_type": "execute_result"
    },
    {
     "data": {
      "image/png": "[encoded data removed]",
      "text/plain": [
       "<Figure size 432x288 with 1 Axes>"
      ]
     },
     "metadata": {
      "needs_background": "light"
     },
     "output_type": "display_data"
    }
   ],
   "source": [
    "plt.bar(unique_elements, counts)"
   ]
  },
  {
   "cell_type": "code",
   "execution_count": 28,
   "id": "c4022d37",
   "metadata": {},
   "outputs": [
    {
     "data": {
      "image/png": "[encoded data removed]",
      "text/plain": [
       "<Figure size 432x288 with 1 Axes>"
      ]
     },
     "metadata": {
      "needs_background": "light"
     },
     "output_type": "display_data"
    }
   ],
   "source": [
    "arr2 = [8, 12, 21, 19, 9, 10, 11, 13, 20]\n",
    "plt.hist(arr2, bins=20, color='red')\n",
    "plt.xticks(range(0, 20))\n",
    "plt.show()"
   ]
  },
  {
   "cell_type": "code",
   "execution_count": null,
   "id": "ed5bbc22",
   "metadata": {},
   "outputs": [],
   "source": []
  }
 ],
 "metadata": {
  "kernelspec": {
   "display_name": "Python 3 (ipykernel)",
   "language": "python",
   "name": "python3"
  },
  "language_info": {
   "codemirror_mode": {
    "name": "ipython",
    "version": 3
   },
   "file_extension": ".py",
   "mimetype": "text/x-python",
   "name": "python",
   "nbconvert_exporter": "python",
   "pygments_lexer": "ipython3",
   "version": "3.9.7"
  }
 },
 "nbformat": 4,
 "nbformat_minor": 5
}
