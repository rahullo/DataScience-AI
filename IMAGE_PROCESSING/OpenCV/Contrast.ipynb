{
 "cells": [
  {
   "cell_type": "code",
   "execution_count": 20,
   "id": "4fabcb66",
   "metadata": {},
   "outputs": [],
   "source": [
    "import numpy as np\n",
    "import cv2"
   ]
  },
  {
   "cell_type": "code",
   "execution_count": 25,
   "id": "6385a277",
   "metadata": {},
   "outputs": [],
   "source": [
    "image = cv2.imread('../IMAGES/CLina.jpg', 0)\n"
   ]
  },
  {
   "cell_type": "code",
   "execution_count": 26,
   "id": "7fb7622c",
   "metadata": {},
   "outputs": [],
   "source": [
    "def contrast(img, percentage):\n",
    "    for i in range(len(img)):\n",
    "        for j in range(len(img[0])):\n",
    "            if img[i][j] > 128:\n",
    "                img[i][j] += ((img[i][j]*percentage) // 100) % 256\n",
    "            else:\n",
    "                img[i][j] -= ((img[i][j]*percentage) // 100) % 256"
   ]
  },
  {
   "cell_type": "code",
   "execution_count": 41,
   "id": "1eb8c935",
   "metadata": {},
   "outputs": [
    {
     "data": {
      "text/plain": [
       "array([[174, 171, 179, ..., 183, 160, 113],\n",
       "       [174, 172, 179, ..., 184, 161, 112],\n",
       "       [173, 172, 179, ..., 188, 162, 108],\n",
       "       ...,\n",
       "       [ 35,  41,  40, ...,  88,  90,  85],\n",
       "       [ 36,  37,  41, ...,  91,  93,  90],\n",
       "       [ 41,  31,  51, ...,  91,  94,  93]], dtype=uint8)"
      ]
     },
     "execution_count": 41,
     "metadata": {},
     "output_type": "execute_result"
    }
   ],
   "source": [
    "img2 = image.copy()\n",
    "contrast(img2, 10)\n",
    "img2"
   ]
  },
  {
   "cell_type": "code",
   "execution_count": 42,
   "id": "c31dc009",
   "metadata": {},
   "outputs": [],
   "source": [
    "cv2.imshow(\"Original Image\", image)\n",
    "cv2.imshow(\"inhanced Image\", img2)\n",
    "cv2.waitKey(0)\n",
    "cv2.destroyAllWindows()"
   ]
  },
  {
   "cell_type": "code",
   "execution_count": null,
   "id": "3193f6ad",
   "metadata": {},
   "outputs": [],
   "source": []
  }
 ],
 "metadata": {
  "kernelspec": {
   "display_name": "Python 3 (ipykernel)",
   "language": "python",
   "name": "python3"
  },
  "language_info": {
   "codemirror_mode": {
    "name": "ipython",
    "version": 3
   },
   "file_extension": ".py",
   "mimetype": "text/x-python",
   "name": "python",
   "nbconvert_exporter": "python",
   "pygments_lexer": "ipython3",
   "version": "3.9.7"
  }
 },
 "nbformat": 4,
 "nbformat_minor": 5
}
