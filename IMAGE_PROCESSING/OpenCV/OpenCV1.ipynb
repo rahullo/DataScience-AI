{
 "cells": [
  {
   "cell_type": "code",
   "execution_count": 10,
   "id": "3a9aed23",
   "metadata": {},
   "outputs": [],
   "source": [
    "import numpy as np\n",
    "import pandas as pd\n",
    "import cv2"
   ]
  },
  {
   "cell_type": "code",
   "execution_count": 11,
   "id": "03a04ff3",
   "metadata": {},
   "outputs": [],
   "source": [
    "g_img = cv2.imread('../IMAGES/Gbaboon.jpg', 1)\n",
    "img_color = cv2.imread('../IMAGES/Cbaboon.tiff',0)"
   ]
  },
  {
   "cell_type": "code",
   "execution_count": 12,
   "id": "1d9057d9",
   "metadata": {},
   "outputs": [],
   "source": [
    "cv2.imshow('GrayScale Image', g_img)\n",
    "cv2.waitKey(0)\n",
    "cv2.destroyAllWindows()"
   ]
  },
  {
   "cell_type": "code",
   "execution_count": 13,
   "id": "e8529475",
   "metadata": {},
   "outputs": [],
   "source": [
    "down_width = 306\n",
    "down_height = 306\n",
    "down_point = (down_width, down_height)\n",
    "resized_down = cv2.resize(g_img, down_point, interpolation= cv2.INTER_LINEAR)"
   ]
  },
  {
   "cell_type": "code",
   "execution_count": 14,
   "id": "a3c355cc",
   "metadata": {},
   "outputs": [],
   "source": [
    "up_scale_width = 718\n",
    "up_scale_height = 718\n",
    "up_scale_point = (up_scale_width, up_scale_height)\n",
    "up_Scaled_img = cv2.resize(g_img, up_scale_point, interpolation= cv2.INTER_LINEAR)"
   ]
  },
  {
   "cell_type": "code",
   "execution_count": 9,
   "id": "c3578e81",
   "metadata": {},
   "outputs": [],
   "source": [
    "cv2.imshow(\"Resized image \", resized_down)\n",
    "cv2.imshow(\"Upscaled image \", up_Scaled_img)\n",
    "cv2.waitKey(0)\n",
    "cv2.destroyAllWindows()"
   ]
  },
  {
   "cell_type": "code",
   "execution_count": null,
   "id": "435db7f6",
   "metadata": {},
   "outputs": [],
   "source": []
  }
 ],
 "metadata": {
  "kernelspec": {
   "display_name": "Python 3 (ipykernel)",
   "language": "python",
   "name": "python3"
  },
  "language_info": {
   "codemirror_mode": {
    "name": "ipython",
    "version": 3
   },
   "file_extension": ".py",
   "mimetype": "text/x-python",
   "name": "python",
   "nbconvert_exporter": "python",
   "pygments_lexer": "ipython3",
   "version": "3.9.7"
  }
 },
 "nbformat": 4,
 "nbformat_minor": 5
}
