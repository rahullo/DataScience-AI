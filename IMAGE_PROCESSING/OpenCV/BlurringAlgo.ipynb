{
 "cells": [
  {
   "cell_type": "code",
   "execution_count": 46,
   "id": "1e972033",
   "metadata": {},
   "outputs": [],
   "source": [
    "import numpy as np\n",
    "import cv2"
   ]
  },
  {
   "cell_type": "code",
   "execution_count": 47,
   "id": "83c47379",
   "metadata": {},
   "outputs": [],
   "source": [
    "original_image = cv2.imread('../IMAGES/CLina.jpg', 0)\n",
    "blurred_image = original_Image"
   ]
  },
  {
   "cell_type": "code",
   "execution_count": 48,
   "id": "c05a51f6",
   "metadata": {},
   "outputs": [],
   "source": [
    "def blurring(matrix, blur_effect):\n",
    "    for items in matrix:\n",
    "        for i in range(blur_effect, len(items)-blur_effect):\n",
    "            avg = np.mean(items[i-blur_effect:i+blur_effect])\n",
    "            items[i] = avg\n",
    "# blurring(blurred_image, 2)  "
   ]
  },
  {
   "cell_type": "code",
   "execution_count": 49,
   "id": "d4a54758",
   "metadata": {},
   "outputs": [],
   "source": [
    "# Apply averaging blur with a kernel size of (3, 3)\n",
    "blurred_img = cv2.blur(original_image, (3, 3))  # Kernel size (width, height)"
   ]
  },
  {
   "cell_type": "code",
   "execution_count": 50,
   "id": "a0a0e08e",
   "metadata": {},
   "outputs": [],
   "source": [
    "# Apply Gaussian blur with kernel size (5, 5) and standard deviation of 0 (default for isotropic filter)\n",
    "Gaussian_blurred_img = cv2.GaussianBlur(original_image, (5, 5), 0)"
   ]
  },
  {
   "cell_type": "code",
   "execution_count": 51,
   "id": "1c39b0ca",
   "metadata": {},
   "outputs": [],
   "source": [
    "# Apply median blur with a kernel size of 5\n",
    "meddian_blurred_img = cv2.medianBlur(original_image, 5)"
   ]
  },
  {
   "cell_type": "code",
   "execution_count": 52,
   "id": "97a5583e",
   "metadata": {},
   "outputs": [],
   "source": [
    "cv2.imshow(\"Original image\", original_image)\n",
    "cv2.imshow(\"CV2_Blurred image\", blurred_img)\n",
    "cv2.imshow(\"Gaussing Blurred image\", Gaussian_blurred_img)\n",
    "cv2.imshow(\"Median Blurred image\", meddian_blurred_img)\n",
    "# cv2.imshow(\"Blurred image\", blurred_image)\n",
    "cv2.waitKey(0)\n",
    "cv2.destroyAllWindows()"
   ]
  },
  {
   "cell_type": "code",
   "execution_count": null,
   "id": "637e1cab",
   "metadata": {},
   "outputs": [],
   "source": []
  }
 ],
 "metadata": {
  "kernelspec": {
   "display_name": "Python 3 (ipykernel)",
   "language": "python",
   "name": "python3"
  },
  "language_info": {
   "codemirror_mode": {
    "name": "ipython",
    "version": 3
   },
   "file_extension": ".py",
   "mimetype": "text/x-python",
   "name": "python",
   "nbconvert_exporter": "python",
   "pygments_lexer": "ipython3",
   "version": "3.9.7"
  }
 },
 "nbformat": 4,
 "nbformat_minor": 5
}
