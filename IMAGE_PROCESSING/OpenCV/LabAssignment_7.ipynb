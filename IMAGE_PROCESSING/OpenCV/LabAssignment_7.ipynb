{
 "cells": [
  {
   "cell_type": "code",
   "execution_count": 1,
   "id": "ce666cfc",
   "metadata": {},
   "outputs": [],
   "source": [
    "import numpy as np\n",
    "import cv2\n",
    "import matplotlib.pyplot as plt\n",
    "from collections import Counter"
   ]
  },
  {
   "cell_type": "code",
   "execution_count": 7,
   "id": "34681ef1",
   "metadata": {},
   "outputs": [],
   "source": [
    "#image loading\n",
    "image = cv2.imread('../IMAGES/BoatsColor.bmp', 0)"
   ]
  },
  {
   "cell_type": "code",
   "execution_count": 8,
   "id": "82e19407",
   "metadata": {},
   "outputs": [
    {
     "name": "stdout",
     "output_type": "stream",
     "text": [
      "Compression Ratio: -40791.7642\n"
     ]
    }
   ],
   "source": [
    "# 1. Write a program to perform the Huffman coding techniques on an image and compute Compression Ratio.\n",
    "\n",
    "def huffman_coding(symbols, probabilities):\n",
    "\n",
    "  # Create a symbol-frequency table\n",
    "  symbol_freq = dict(zip(symbols, probabilities))\n",
    "\n",
    "  # Create a Huffman tree using a priority queue (based on frequency)\n",
    "  class Node:\n",
    "    def __init__(self, symbol, freq, left=None, right=None):\n",
    "      self.symbol = symbol\n",
    "      self.freq = freq\n",
    "      self.left = left\n",
    "      self.right = right\n",
    "\n",
    "    def __lt__(self, other):\n",
    "      return self.freq > other.freq  # Invert for min-heap\n",
    "\n",
    "  heap = [Node(symbol, freq) for symbol, freq in symbol_freq.items()]\n",
    "  import heapq\n",
    "  while len(heap) > 1:\n",
    "    left = heapq.heappop(heap)\n",
    "    right = heapq.heappop(heap)\n",
    "    parent = Node(None, left.freq + right.freq, left, right)\n",
    "    heapq.heappush(heap, parent)\n",
    "\n",
    "  # Traverse the Huffman tree to generate codes\n",
    "  codes = {}\n",
    "  def traverse(node, code):\n",
    "    if node is None:\n",
    "      return\n",
    "    if node.symbol is not None:\n",
    "      codes[node.symbol] = code\n",
    "      return\n",
    "    traverse(node.left, code + '0')\n",
    "    traverse(node.right, code + '1')\n",
    "  traverse(heap[0], '')\n",
    "\n",
    "  return codes\n",
    "\n",
    "def compress_image(image):\n",
    "  \n",
    "  # Get the histogram (symbol frequencies)\n",
    "  intensity_counts = Counter(image.flatten())\n",
    "  intensities = list(intensity_counts.keys())\n",
    "  probabilities = [count / len(image.flatten()) for count in intensity_counts.values()]\n",
    "\n",
    "  # Create Huffman codes\n",
    "  codes = huffman_coding(intensities, probabilities)\n",
    "\n",
    "  # Encode the image using Huffman codes (replace with actual encoding logic)\n",
    "  compressed_data = ''.join([codes[intensity] for intensity in image.flatten()])\n",
    "\n",
    "  return compressed_data, codes\n",
    "\n",
    "def calculate_compression_ratio(original_size, compressed_size):\n",
    "  \n",
    "\n",
    "  return 1 - compressed_size / original_size\n",
    "\n",
    "\n",
    "# Convert image to NumPy array for processing\n",
    "image_array = image.copy() \n",
    "\n",
    "# Perform compression steps\n",
    "compressed_data, codes = compress_image(image_array)\n",
    "\n",
    "# Calculate sizes for compression ratio (assuming uint8 data type)\n",
    "original_size = image.size * image.dtype.itemsize\n",
    "compressed_size = len(compressed_data) * len(codes.keys())\n",
    "\n",
    "compression_ratio = calculate_compression_ratio(original_size, compressed_size)\n",
    "\n",
    "print(f\"Compression Ratio: {compression_ratio:.4f}\")\n"
   ]
  }
 ],
 "metadata": {
  "kernelspec": {
   "display_name": "Python 3 (ipykernel)",
   "language": "python",
   "name": "python3"
  },
  "language_info": {
   "codemirror_mode": {
    "name": "ipython",
    "version": 3
   },
   "file_extension": ".py",
   "mimetype": "text/x-python",
   "name": "python",
   "nbconvert_exporter": "python",
   "pygments_lexer": "ipython3",
   "version": "3.9.7"
  }
 },
 "nbformat": 4,
 "nbformat_minor": 5
}
