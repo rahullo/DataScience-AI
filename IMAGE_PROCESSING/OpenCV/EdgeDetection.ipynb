{
 "cells": [
  {
   "cell_type": "code",
   "execution_count": 1,
   "id": "72d36569",
   "metadata": {},
   "outputs": [],
   "source": [
    "import cv2\n",
    "import numpy as np"
   ]
  },
  {
   "cell_type": "code",
   "execution_count": 10,
   "id": "c04cc809",
   "metadata": {},
   "outputs": [],
   "source": [
    "random_array = np.random.randint(0, 255, size=(1000, 1000, 3), dtype=np.uint8)"
   ]
  },
  {
   "cell_type": "code",
   "execution_count": 11,
   "id": "b553c62c",
   "metadata": {},
   "outputs": [
    {
     "data": {
      "text/plain": [
       "array([[[  4, 126, 246],\n",
       "        [231,  42,  85],\n",
       "        [134,  38,   8],\n",
       "        ...,\n",
       "        [223, 251, 126],\n",
       "        [ 28,  94, 179],\n",
       "        [ 62, 113, 121]],\n",
       "\n",
       "       [[158,  31, 132],\n",
       "        [ 50, 107, 243],\n",
       "        [203, 244, 246],\n",
       "        ...,\n",
       "        [ 17, 117, 186],\n",
       "        [187, 177,   7],\n",
       "        [216,  32, 246]],\n",
       "\n",
       "       [[ 39,  28,  99],\n",
       "        [182, 222, 104],\n",
       "        [233, 199,  84],\n",
       "        ...,\n",
       "        [ 26,  30, 110],\n",
       "        [237, 188, 252],\n",
       "        [110, 131, 191]],\n",
       "\n",
       "       ...,\n",
       "\n",
       "       [[194,  52, 189],\n",
       "        [103, 238,   3],\n",
       "        [233, 202, 168],\n",
       "        ...,\n",
       "        [ 72, 248, 225],\n",
       "        [150, 142, 216],\n",
       "        [243, 123, 146]],\n",
       "\n",
       "       [[171,  38,  49],\n",
       "        [254,  31,  91],\n",
       "        [ 16,  59,  79],\n",
       "        ...,\n",
       "        [209, 193, 127],\n",
       "        [ 20,  16, 211],\n",
       "        [203, 180, 145]],\n",
       "\n",
       "       [[ 14, 169,  32],\n",
       "        [101,  11, 252],\n",
       "        [ 24,  62, 158],\n",
       "        ...,\n",
       "        [ 32,  65,  13],\n",
       "        [100, 114, 228],\n",
       "        [209,  21,  61]]], dtype=uint8)"
      ]
     },
     "execution_count": 11,
     "metadata": {},
     "output_type": "execute_result"
    }
   ],
   "source": [
    "random_array"
   ]
  },
  {
   "cell_type": "code",
   "execution_count": 13,
   "id": "578c5582",
   "metadata": {},
   "outputs": [],
   "source": [
    "#To convert the greyscale image to 3 channel\n",
    "#random_image = cv2.cvtColor(random_array, cv2.COLOR_GRAY2BGR)"
   ]
  },
  {
   "cell_type": "code",
   "execution_count": 14,
   "id": "eceec008",
   "metadata": {},
   "outputs": [],
   "source": [
    "cv2.imshow(\"Image\", random_array)\n",
    "cv2.waitKey(0)\n",
    "cv2.destroyAllWindows()"
   ]
  },
  {
   "cell_type": "code",
   "execution_count": null,
   "id": "a1078cb5",
   "metadata": {},
   "outputs": [],
   "source": []
  }
 ],
 "metadata": {
  "kernelspec": {
   "display_name": "Python 3 (ipykernel)",
   "language": "python",
   "name": "python3"
  },
  "language_info": {
   "codemirror_mode": {
    "name": "ipython",
    "version": 3
   },
   "file_extension": ".py",
   "mimetype": "text/x-python",
   "name": "python",
   "nbconvert_exporter": "python",
   "pygments_lexer": "ipython3",
   "version": "3.9.7"
  }
 },
 "nbformat": 4,
 "nbformat_minor": 5
}
