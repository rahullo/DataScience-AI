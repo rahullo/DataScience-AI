{
 "cells": [
  {
   "cell_type": "code",
   "execution_count": 1,
   "id": "c5497c3d",
   "metadata": {},
   "outputs": [],
   "source": [
    "# 1.  Take an image of size 512*512,  sub-sampled down it to size 256*256, 128*128, 64*64, 32*32\n",
    "# pixels. The number of allowable gray levels was kept at 256. Sub-sampling\n",
    "# is achieved by deleting every other row and column."
   ]
  },
  {
   "cell_type": "code",
   "execution_count": 9,
   "id": "ef5e0841",
   "metadata": {},
   "outputs": [],
   "source": [
    "import numpy as np\n",
    "import cv2"
   ]
  },
  {
   "cell_type": "code",
   "execution_count": 10,
   "id": "557e6a80",
   "metadata": {},
   "outputs": [],
   "source": [
    "image = cv2.imread('../IMAGES/CLina.jpg', 0)"
   ]
  },
  {
   "cell_type": "code",
   "execution_count": 39,
   "id": "7158b1e4",
   "metadata": {},
   "outputs": [],
   "source": [
    "arr1 = image\n",
    "def delete_every_other_row_and_column(arr, scale):\n",
    "    num_rows, num_cols = len(arr), len(arr[0])\n",
    "    \n",
    "    result = []\n",
    "    \n",
    "    for i in range(0, num_rows, scale):\n",
    "        row = []\n",
    "        for j in range(0, num_cols, scale):\n",
    "            row.append(arr[i][j])\n",
    "        result.append(row)\n",
    "    \n",
    "    return result\n",
    "downgrade_image_256 = np.array(delete_every_other_row_and_column(arr1, 2))\n",
    "downgrade_image_128 = np.array(delete_every_other_row_and_column(arr1, 4))\n",
    "downgrade_image_64 = np.array(delete_every_other_row_and_column(arr1, 8))\n",
    "downgrade_image_32 = np.array(delete_every_other_row_and_column(arr1, 16))\n"
   ]
  },
  {
   "cell_type": "code",
   "execution_count": 54,
   "id": "048ec9e8",
   "metadata": {},
   "outputs": [],
   "source": [
    "cv2.imshow(\"Original Image\", image)\n",
    "\n",
    "cv2.imshow(\"Resized Image 1\", downgrade_image_256)\n",
    "cv2.imshow(\"Resized Image 2\", downgrade_image_128)\n",
    "cv2.imshow(\"Resized Image 3\", downgrade_image_64)\n",
    "cv2.imshow(\"Resized Image 4\", downgrade_image_32)\n",
    "\n",
    "cv2.waitKey(0)\n",
    "cv2.destroyAllWindows()"
   ]
  },
  {
   "cell_type": "code",
   "execution_count": 29,
   "id": "5d3f65e0",
   "metadata": {},
   "outputs": [],
   "source": [
    "# 2. Apply Re-sampling, on images obtained in Q. 1 by row and column duplication\n",
    "# 256*256 Image resampled into 512*512 pixels by row and column duplication. \n",
    "# 128*128 Image resampled into 512*512 pixels by row and column duplication.  \n",
    "# 64*64  Image resampled into 512*512 pixels by row and column duplication.  \n",
    "# 32*32  Image resampled into 512*512 pixels by row and column duplication. "
   ]
  },
  {
   "cell_type": "code",
   "execution_count": 41,
   "id": "774bedf4",
   "metadata": {},
   "outputs": [
    {
     "data": {
      "text/plain": [
       "(512, 512)"
      ]
     },
     "execution_count": 41,
     "metadata": {},
     "output_type": "execute_result"
    }
   ],
   "source": [
    "def duplicate_rows_and_columns(arr):\n",
    "    rows, cols = len(arr), len(arr[0])\n",
    "    \n",
    "    result = [[0] * (2 * cols) for _ in range(2 * rows)]\n",
    "    \n",
    "    for i in range(rows):\n",
    "        for j in range(cols):\n",
    "            result[2*i][2*j] = arr[i][j]\n",
    "            result[2*i][2*j+1] = arr[i][j]\n",
    "            result[2*i+1][2*j] = arr[i][j]\n",
    "            result[2*i+1][2*j+1] = arr[i][j]\n",
    "    \n",
    "    return result\n",
    "upgraded_image = np.array(duplicate_rows_and_columns(downgrade_image_128))\n",
    "upgraded_image = np.array(duplicate_rows_and_columns(upgraded_image))\n",
    "upgraded_image.shape"
   ]
  },
  {
   "cell_type": "code",
   "execution_count": 42,
   "id": "0caebb1a",
   "metadata": {},
   "outputs": [],
   "source": [
    "cv2.imshow(\"Original Image\", downgrade_image_128)\n",
    "cv2.imshow(\"Resized Image \", upgraded_image)\n",
    "\n",
    "cv2.waitKey(0)\n",
    "cv2.destroyAllWindows()"
   ]
  },
  {
   "cell_type": "code",
   "execution_count": 50,
   "id": "fe8bd60c",
   "metadata": {},
   "outputs": [
    {
     "data": {
      "text/plain": [
       "(512, 512, 3)"
      ]
     },
     "execution_count": 50,
     "metadata": {},
     "output_type": "execute_result"
    }
   ],
   "source": [
    "# 3. Write a program to perform basic arithmetic operations on two images: \n",
    "\n",
    "image1 = cv2.imread('../IMAGES/Cbaboon.tiff', 1)\n",
    "image2 = cv2.imread('../IMAGES/Cpeppers.tiff', 1)\n",
    "image2.shape"
   ]
  },
  {
   "cell_type": "code",
   "execution_count": 51,
   "id": "947300f3",
   "metadata": {},
   "outputs": [],
   "source": [
    "# Addition\n",
    "added_Image = image1+image2\n",
    "added_Image = added_Image%256\n",
    "added_Image = added_Image.astype(np.uint8)\n",
    "cv2.imshow(\"Added Image\", added_Image)\n",
    "\n",
    "cv2.waitKey(0)\n",
    "cv2.destroyAllWindows()"
   ]
  },
  {
   "cell_type": "code",
   "execution_count": 52,
   "id": "e9bb91eb",
   "metadata": {},
   "outputs": [],
   "source": [
    "# Subtraction\n",
    "subtracted_Image = image1-image2\n",
    "subtracted_Image = added_Image%256\n",
    "subtracted_Image = added_Image.astype(np.uint8)\n",
    "cv2.imshow(\"Subtracted Image\", subtracted_Image)\n",
    "\n",
    "cv2.waitKey(0)\n",
    "cv2.destroyAllWindows()"
   ]
  },
  {
   "cell_type": "code",
   "execution_count": 53,
   "id": "2d80d014",
   "metadata": {},
   "outputs": [],
   "source": [
    "# Multiplication\n",
    "Multiplicated_Image = image1-image2\n",
    "Multiplicated_Image = added_Image%256\n",
    "Multiplicated_Image = added_Image.astype(np.uint8)\n",
    "cv2.imshow(\"Multiplicated Image\", Multiplicated_Image)\n",
    "\n",
    "cv2.waitKey(0)\n",
    "cv2.destroyAllWindows()"
   ]
  },
  {
   "cell_type": "code",
   "execution_count": null,
   "id": "23913a40",
   "metadata": {},
   "outputs": [],
   "source": [
    "# Averaging"
   ]
  }
 ],
 "metadata": {
  "kernelspec": {
   "display_name": "Python 3 (ipykernel)",
   "language": "python",
   "name": "python3"
  },
  "language_info": {
   "codemirror_mode": {
    "name": "ipython",
    "version": 3
   },
   "file_extension": ".py",
   "mimetype": "text/x-python",
   "name": "python",
   "nbconvert_exporter": "python",
   "pygments_lexer": "ipython3",
   "version": "3.12.4"
  }
 },
 "nbformat": 4,
 "nbformat_minor": 5
}
