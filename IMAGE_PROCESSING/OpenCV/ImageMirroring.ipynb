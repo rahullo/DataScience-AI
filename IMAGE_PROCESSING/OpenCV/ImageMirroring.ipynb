{
 "cells": [
  {
   "cell_type": "code",
   "execution_count": 1,
   "id": "e9843307",
   "metadata": {},
   "outputs": [],
   "source": [
    "import cv2\n",
    "import numpy as np"
   ]
  },
  {
   "cell_type": "code",
   "execution_count": 35,
   "id": "f37b3aaa",
   "metadata": {},
   "outputs": [
    {
     "data": {
      "text/plain": [
       "(512, 512)"
      ]
     },
     "execution_count": 35,
     "metadata": {},
     "output_type": "execute_result"
    }
   ],
   "source": [
    "image = cv2.imread('../IMAGES/CLina.jpg', 0)\n",
    "image.shape"
   ]
  },
  {
   "cell_type": "code",
   "execution_count": 55,
   "id": "be1d5380",
   "metadata": {},
   "outputs": [],
   "source": [
    "def reverseImage(image):\n",
    "    new_arr = image.copy()\n",
    "    m, n = image.shape\n",
    "    for i in range(m):\n",
    "        for j in range(n):\n",
    "            new_arr[i][n-j-1] = image[i][j]\n",
    "            new_arr[i][j] = image[i][n-j-1]\n",
    "    return new_arr"
   ]
  },
  {
   "cell_type": "code",
   "execution_count": 56,
   "id": "37177430",
   "metadata": {},
   "outputs": [],
   "source": [
    "image2 = reverseImage(image2)"
   ]
  },
  {
   "cell_type": "code",
   "execution_count": 57,
   "id": "cb0ac9c0",
   "metadata": {},
   "outputs": [],
   "source": [
    "cv2.imshow('Image', image)\n",
    "cv2.imshow('Reversed Image', image2)\n",
    "cv2.waitKey(0)\n",
    "cv2.destroyAllWindows()"
   ]
  },
  {
   "cell_type": "code",
   "execution_count": null,
   "id": "8a5879c4",
   "metadata": {},
   "outputs": [],
   "source": []
  }
 ],
 "metadata": {
  "kernelspec": {
   "display_name": "Python 3 (ipykernel)",
   "language": "python",
   "name": "python3"
  },
  "language_info": {
   "codemirror_mode": {
    "name": "ipython",
    "version": 3
   },
   "file_extension": ".py",
   "mimetype": "text/x-python",
   "name": "python",
   "nbconvert_exporter": "python",
   "pygments_lexer": "ipython3",
   "version": "3.9.7"
  }
 },
 "nbformat": 4,
 "nbformat_minor": 5
}
