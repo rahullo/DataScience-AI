{
 "cells": [
  {
   "cell_type": "code",
   "execution_count": 1,
   "id": "399f2c2f",
   "metadata": {},
   "outputs": [],
   "source": [
    "import numpy as np\n",
    "import cv2"
   ]
  },
  {
   "cell_type": "code",
   "execution_count": 2,
   "id": "2c8a3ddb",
   "metadata": {},
   "outputs": [
    {
     "data": {
      "text/plain": [
       "(67, 100)"
      ]
     },
     "execution_count": 2,
     "metadata": {},
     "output_type": "execute_result"
    }
   ],
   "source": [
    "#1. Normalize an image using the following steps:\n",
    "#Loads an image in grayscale mode using OpenCV.\n",
    "image = cv2.imread('../IMAGEs/flower.jpg', 0)\n",
    "image.shape"
   ]
  },
  {
   "cell_type": "code",
   "execution_count": 3,
   "id": "5939fc2c",
   "metadata": {},
   "outputs": [],
   "source": [
    "#Converts the image to floating point representation for calculations.\n",
    "image_float = image.astype(np.float32)"
   ]
  },
  {
   "cell_type": "code",
   "execution_count": 4,
   "id": "b5b4f57c",
   "metadata": {},
   "outputs": [],
   "source": [
    "#Calculates the minimum and maximum pixel values in the image.\n",
    "min_px = image.min()\n",
    "max_px = image.max()\n",
    "\n",
    "min_val = np.min(image_float)\n",
    "max_val = np.max(image_float)"
   ]
  },
  {
   "cell_type": "code",
   "execution_count": 5,
   "id": "8cc137c8",
   "metadata": {},
   "outputs": [],
   "source": [
    "#Normalizes the image using the formula ((image_float - min_val) / (max_val - min_val))*R.\n",
    "#if R=256, it will Scale the normalized image to the 0-255 range.\n",
    "R = 256  # Scale factor\n",
    "normalized_image = ((image_float - min_px) / (max_px - min_px)) * R"
   ]
  },
  {
   "cell_type": "code",
   "execution_count": 6,
   "id": "0cd77fa3",
   "metadata": {},
   "outputs": [],
   "source": [
    "#Displays the original and normalized images using OpenCV.\n",
    "cv2.imshow('Original Image', image)\n",
    "cv2.imshow('Normalized Image', normalized_image)\n",
    "cv2.waitKey(0)\n",
    "cv2.destroyAllWindows()"
   ]
  },
  {
   "cell_type": "code",
   "execution_count": 20,
   "id": "4ce7d09f",
   "metadata": {},
   "outputs": [
    {
     "data": {
      "text/plain": [
       "array([[159, 156, 163, ..., 167, 146, 125],\n",
       "       [159, 157, 163, ..., 168, 147, 124],\n",
       "       [158, 157, 163, ..., 171, 148, 120],\n",
       "       ...,\n",
       "       [ 38,  45,  44, ...,  97,  99,  94],\n",
       "       [ 40,  41,  45, ..., 101, 103, 100],\n",
       "       [ 45,  34,  56, ..., 101, 104, 103]], dtype=uint8)"
      ]
     },
     "execution_count": 20,
     "metadata": {},
     "output_type": "execute_result"
    }
   ],
   "source": [
    "#2.  Image Encryption: Encrypt the image\n",
    "#Load the input grayscale image using an image processing library like OpenCV.\n",
    "\n",
    "image2 = cv2.imread('../IMAGES/CLina.jpg', 0)\n",
    "image2"
   ]
  },
  {
   "cell_type": "code",
   "execution_count": 21,
   "id": "1a2ec489",
   "metadata": {},
   "outputs": [
    {
     "data": {
      "text/plain": [
       "array([[ 44, 104, 170, ...,  73, 171, 111],\n",
       "       [132,  21,  98, ...,  91, 163, 224],\n",
       "       [141, 167, 199, ...,  54, 159, 248],\n",
       "       ...,\n",
       "       [154, 216, 198, ..., 183,  30,  98],\n",
       "       [244, 241, 130, ...,  58, 122, 114],\n",
       "       [159, 148,  21, ..., 201, 217,  62]], dtype=uint8)"
      ]
     },
     "execution_count": 21,
     "metadata": {},
     "output_type": "execute_result"
    }
   ],
   "source": [
    "#Generate a random key matrix of the same size as the input image. Each element in the key matrix should be a random integer between 0 and 255.\n",
    "matrix = np.random.randint(0, 256, size=(512, 512), dtype=np.uint8)\n",
    "matrix"
   ]
  },
  {
   "cell_type": "code",
   "execution_count": 22,
   "id": "6fa429ac",
   "metadata": {},
   "outputs": [
    {
     "data": {
      "text/plain": [
       "array([[203,   4,  77, ..., 240,  61, 236],\n",
       "       [ 35, 178,   5, ...,   3,  54,  92],\n",
       "       [ 43,  68, 106, ..., 225,  51, 112],\n",
       "       ...,\n",
       "       [192,   5, 242, ...,  24, 129, 192],\n",
       "       [ 28,  26, 175, ..., 159, 225, 214],\n",
       "       [204, 182,  77, ...,  46,  65, 165]], dtype=uint8)"
      ]
     },
     "execution_count": 22,
     "metadata": {},
     "output_type": "execute_result"
    }
   ],
   "source": [
    "#Perform element-wise addition of the input image and the key matrix.\n",
    "sum_matrix = image2 + matrix\n",
    "sum_matrix"
   ]
  },
  {
   "cell_type": "code",
   "execution_count": 23,
   "id": "b9d6660a",
   "metadata": {},
   "outputs": [
    {
     "data": {
      "text/plain": [
       "array([[203,   4,  77, ..., 240,  61, 236],\n",
       "       [ 35, 178,   5, ...,   3,  54,  92],\n",
       "       [ 43,  68, 106, ..., 225,  51, 112],\n",
       "       ...,\n",
       "       [192,   5, 242, ...,  24, 129, 192],\n",
       "       [ 28,  26, 175, ..., 159, 225, 214],\n",
       "       [204, 182,  77, ...,  46,  65, 165]], dtype=uint8)"
      ]
     },
     "execution_count": 23,
     "metadata": {},
     "output_type": "execute_result"
    }
   ],
   "source": [
    "#Take the modulo 256 of each sum to ensure the result stays within the 0-255 range.\n",
    "encrypted_image = sum_matrix%256\n",
    "encrypted_image = encrypted_image.astype(np.uint8)\n",
    "encrypted_image"
   ]
  },
  {
   "cell_type": "code",
   "execution_count": 24,
   "id": "52147a70",
   "metadata": {},
   "outputs": [],
   "source": [
    "#The resulting matrix represents the encrypted image.\n",
    "cv2.imwrite('../IMAGES/encrypted_image.jpg', encrypted_image)\n",
    "cv2.imshow(\"Encrypted Image\", encrypted_image)\n",
    "cv2.waitKey(0)\n",
    "cv2.destroyAllWindows()"
   ]
  },
  {
   "cell_type": "code",
   "execution_count": 28,
   "id": "378e247f",
   "metadata": {},
   "outputs": [
    {
     "data": {
      "text/plain": [
       "array([[159, 156, 163, ..., 167, 146, 125],\n",
       "       [159, 157, 163, ..., 168, 147, 124],\n",
       "       [158, 157, 163, ..., 171, 148, 120],\n",
       "       ...,\n",
       "       [ 38,  45,  44, ...,  97,  99,  94],\n",
       "       [ 40,  41,  45, ..., 101, 103, 100],\n",
       "       [ 45,  34,  56, ..., 101, 104, 103]], dtype=uint8)"
      ]
     },
     "execution_count": 28,
     "metadata": {},
     "output_type": "execute_result"
    }
   ],
   "source": [
    "#Decryption: Decrypt the Image\n",
    "#Perform element-wise subtraction of the encrypted image and the key matrix.\n",
    "decrypt_matrix = encrypted_image - matrix \n",
    "decrypt_matrix"
   ]
  },
  {
   "cell_type": "code",
   "execution_count": 29,
   "id": "da08c6ec",
   "metadata": {},
   "outputs": [
    {
     "data": {
      "text/plain": [
       "array([[159, 156, 163, ..., 167, 146, 125],\n",
       "       [159, 157, 163, ..., 168, 147, 124],\n",
       "       [158, 157, 163, ..., 171, 148, 120],\n",
       "       ...,\n",
       "       [ 38,  45,  44, ...,  97,  99,  94],\n",
       "       [ 40,  41,  45, ..., 101, 103, 100],\n",
       "       [ 45,  34,  56, ..., 101, 104, 103]], dtype=uint8)"
      ]
     },
     "execution_count": 29,
     "metadata": {},
     "output_type": "execute_result"
    }
   ],
   "source": [
    "#Take the modulo 256 of each difference to ensure the result stays within the 0-255 range.\n",
    "decrypted_image = decrypt_matrix % 256\n",
    "decrypted_image = decrypted_image.astype(np.uint8)\n",
    "decrypted_image"
   ]
  },
  {
   "cell_type": "code",
   "execution_count": 30,
   "id": "9d9a191f",
   "metadata": {},
   "outputs": [],
   "source": [
    "#The resulting matrix represents the decrypted image.\n",
    "#Display the original input image, the encrypted image, and the decrypted image for comparison.\n",
    "cv2.imshow('Original Image', image2)\n",
    "cv2.imshow('Encrypted Image', encrypted_image)\n",
    "cv2.imshow('Decrypted Image', decrypted_image)\n",
    "cv2.waitKey(0)\n",
    "cv2.destroyAllWindows()"
   ]
  },
  {
   "cell_type": "code",
   "execution_count": null,
   "id": "e792ca74",
   "metadata": {},
   "outputs": [],
   "source": [
    "#Verify that the decrypted image matches the original input image, confirming the correctness of the encryption and decryption process."
   ]
  },
  {
   "cell_type": "code",
   "execution_count": null,
   "id": "251a62a4",
   "metadata": {},
   "outputs": [],
   "source": []
  }
 ],
 "metadata": {
  "kernelspec": {
   "display_name": "Python 3 (ipykernel)",
   "language": "python",
   "name": "python3"
  },
  "language_info": {
   "codemirror_mode": {
    "name": "ipython",
    "version": 3
   },
   "file_extension": ".py",
   "mimetype": "text/x-python",
   "name": "python",
   "nbconvert_exporter": "python",
   "pygments_lexer": "ipython3",
   "version": "3.9.7"
  }
 },
 "nbformat": 4,
 "nbformat_minor": 5
}
