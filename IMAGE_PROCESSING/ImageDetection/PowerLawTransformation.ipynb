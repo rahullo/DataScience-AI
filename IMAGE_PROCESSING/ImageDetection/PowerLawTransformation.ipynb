{
 "cells": [
  {
   "cell_type": "code",
   "execution_count": 11,
   "id": "f02bb709",
   "metadata": {},
   "outputs": [],
   "source": [
    "import cv2\n",
    "import numpy as np\n"
   ]
  },
  {
   "cell_type": "code",
   "execution_count": 12,
   "id": "85282369",
   "metadata": {},
   "outputs": [],
   "source": [
    "def power_law_transform(image, gamma):\n",
    "    # Normalize pixel values to the range [0, 1]\n",
    "    normalized_image = image / 255.0\n",
    "    \n",
    "    # Apply power law transformation\n",
    "    transformed_image = np.power(normalized_image, gamma)\n",
    "    \n",
    "    # Scale pixel values back to the range [0, 255] and convert to uint8\n",
    "    transformed_image = np.uint8(255 * transformed_image)\n",
    "    \n",
    "    return transformed_image\n"
   ]
  },
  {
   "cell_type": "code",
   "execution_count": 13,
   "id": "652df83c",
   "metadata": {},
   "outputs": [
    {
     "data": {
      "text/plain": [
       "array([[116, 116, 109, ..., 115, 115, 114],\n",
       "       [115, 114, 113, ..., 116, 115, 112],\n",
       "       [116, 116, 116, ..., 111, 110, 111],\n",
       "       ...,\n",
       "       [ 63,  65,  62, ...,  43,  45,  42],\n",
       "       [ 62,  64,  61, ...,  47,  48,  43],\n",
       "       [ 64,  64,  63, ...,  45,  42,  41]], dtype=uint8)"
      ]
     },
     "execution_count": 13,
     "metadata": {},
     "output_type": "execute_result"
    }
   ],
   "source": [
    "# Load input image\n",
    "input_image = cv2.imread('../IMAGES/MyPic.jpg', cv2.IMREAD_GRAYSCALE)\n",
    "input_image"
   ]
  },
  {
   "cell_type": "code",
   "execution_count": 26,
   "id": "6ac3f028",
   "metadata": {},
   "outputs": [],
   "source": [
    "# Set the value of gamma (gamma > 1 enhances the image, gamma < 1 darkens the image)\n",
    "gamma = 2"
   ]
  },
  {
   "cell_type": "code",
   "execution_count": 27,
   "id": "443b5d30",
   "metadata": {},
   "outputs": [],
   "source": [
    "# Apply power law transformation\n",
    "output_image = power_law_transform(input_image, gamma)\n"
   ]
  },
  {
   "cell_type": "code",
   "execution_count": 28,
   "id": "c1668710",
   "metadata": {},
   "outputs": [],
   "source": [
    "# Display input and output images\n",
    "cv2.imshow('Input Image', input_image)\n",
    "cv2.imshow('Output Image', output_image)\n",
    "cv2.waitKey(0)\n",
    "cv2.destroyAllWindows()\n"
   ]
  },
  {
   "cell_type": "code",
   "execution_count": null,
   "id": "7bb5d336",
   "metadata": {},
   "outputs": [],
   "source": []
  }
 ],
 "metadata": {
  "kernelspec": {
   "display_name": "Python 3 (ipykernel)",
   "language": "python",
   "name": "python3"
  },
  "language_info": {
   "codemirror_mode": {
    "name": "ipython",
    "version": 3
   },
   "file_extension": ".py",
   "mimetype": "text/x-python",
   "name": "python",
   "nbconvert_exporter": "python",
   "pygments_lexer": "ipython3",
   "version": "3.9.7"
  }
 },
 "nbformat": 4,
 "nbformat_minor": 5
}
