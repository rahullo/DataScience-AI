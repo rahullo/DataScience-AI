{
 "cells": [
  {
   "cell_type": "code",
   "execution_count": 10,
   "id": "71a7b619",
   "metadata": {},
   "outputs": [],
   "source": [
    "import cv2\n",
    "# Load image\n",
    "image = cv2.imread('../IMAGES/Cbaboon.tiff')"
   ]
  },
  {
   "cell_type": "code",
   "execution_count": 11,
   "id": "f94d0059",
   "metadata": {},
   "outputs": [],
   "source": [
    "# Convert image to grayscale\n",
    "gray_image = cv2.cvtColor(image, cv2.COLOR_BGR2GRAY)"
   ]
  },
  {
   "cell_type": "code",
   "execution_count": 12,
   "id": "b6fdc412",
   "metadata": {},
   "outputs": [],
   "source": [
    "# Compute SIFT keypoints and descriptors\n",
    "sift = cv2.SIFT_create()\n",
    "keypoints, descriptors = sift.detectAndCompute(gray_image, None)"
   ]
  },
  {
   "cell_type": "code",
   "execution_count": 13,
   "id": "938d72de",
   "metadata": {},
   "outputs": [],
   "source": [
    "# Draw keypoints on the original image\n",
    "image_with_keypoints = cv2.drawKeypoints(image, keypoints, None)"
   ]
  },
  {
   "cell_type": "code",
   "execution_count": 14,
   "id": "f6f1fb75",
   "metadata": {},
   "outputs": [],
   "source": [
    "# Display the original image with keypoints\n",
    "cv2.imshow('Original Image', image)\n",
    "cv2.imshow('Image with Keypoints', image_with_keypoints)\n",
    "cv2.waitKey(0)\n",
    "cv2.destroyAllWindows()"
   ]
  },
  {
   "cell_type": "code",
   "execution_count": null,
   "id": "5c51fd8f",
   "metadata": {},
   "outputs": [],
   "source": []
  }
 ],
 "metadata": {
  "kernelspec": {
   "display_name": "Python 3 (ipykernel)",
   "language": "python",
   "name": "python3"
  },
  "language_info": {
   "codemirror_mode": {
    "name": "ipython",
    "version": 3
   },
   "file_extension": ".py",
   "mimetype": "text/x-python",
   "name": "python",
   "nbconvert_exporter": "python",
   "pygments_lexer": "ipython3",
   "version": "3.9.7"
  }
 },
 "nbformat": 4,
 "nbformat_minor": 5
}
