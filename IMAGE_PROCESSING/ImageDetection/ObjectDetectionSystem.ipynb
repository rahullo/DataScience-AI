{
 "cells": [
  {
   "cell_type": "code",
   "execution_count": 18,
   "id": "9568b2f7",
   "metadata": {},
   "outputs": [],
   "source": [
    "import cv2\n",
    "import numpy as np"
   ]
  },
  {
   "cell_type": "code",
   "execution_count": 20,
   "id": "4f48ca6a",
   "metadata": {},
   "outputs": [],
   "source": [
    "\n",
    "# Load the main image and the template image\n",
    "main_image = cv2.imread('./IMAGES/periodic.jpg')\n",
    "template_image = cv2.imread('./IMAGES/periodicTemp3.jpg')\n",
    "\n",
    "# Convert both images to grayscale\n",
    "main_gray = cv2.cvtColor(main_image, cv2.COLOR_BGR2GRAY)\n",
    "template_gray = cv2.cvtColor(template_image, cv2.COLOR_BGR2GRAY)\n",
    "\n",
    "# Perform template matching\n",
    "result = cv2.matchTemplate(main_gray, template_gray, cv2.TM_CCOEFF_NORMED)\n",
    "\n",
    "# Get the coordinates of the matched region\n",
    "min_val, max_val, min_loc, max_loc = cv2.minMaxLoc(result)\n",
    "top_left = max_loc\n",
    "bottom_right = (top_left[0] + template_gray.shape[1], top_left[1] + template_gray.shape[0])\n",
    "\n",
    "# Draw a rectangle around the matched region\n",
    "cv2.rectangle(main_image, top_left, bottom_right, (0, 255, 0), 2)\n",
    "\n",
    "# Display the result\n",
    "cv2.imshow('Object Detection', main_image)\n",
    "cv2.waitKey(0)\n",
    "cv2.destroyAllWindows()\n"
   ]
  },
  {
   "cell_type": "code",
   "execution_count": null,
   "id": "60269c88",
   "metadata": {},
   "outputs": [],
   "source": []
  }
 ],
 "metadata": {
  "kernelspec": {
   "display_name": "Python 3 (ipykernel)",
   "language": "python",
   "name": "python3"
  },
  "language_info": {
   "codemirror_mode": {
    "name": "ipython",
    "version": 3
   },
   "file_extension": ".py",
   "mimetype": "text/x-python",
   "name": "python",
   "nbconvert_exporter": "python",
   "pygments_lexer": "ipython3",
   "version": "3.9.7"
  }
 },
 "nbformat": 4,
 "nbformat_minor": 5
}
