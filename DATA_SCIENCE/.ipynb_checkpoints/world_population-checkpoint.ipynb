{
 "cells": [
  {
   "cell_type": "code",
   "execution_count": 2,
   "id": "7fc2d3c7",
   "metadata": {},
   "outputs": [],
   "source": [
    "import pandas as pd\n",
    "import numpy as np\n",
    "import matplotlib.pyplot as plt"
   ]
  },
  {
   "cell_type": "code",
   "execution_count": 123,
   "id": "a6e751e6",
   "metadata": {},
   "outputs": [],
   "source": [
    "df1 = pd.read_csv('./data/world_population_by_country_2023.csv')\n",
    "df2 = pd.read_csv('./data/world_population_by_year_1950_2023.csv')"
   ]
  },
  {
   "cell_type": "code",
   "execution_count": 167,
   "id": "86e70afc",
   "metadata": {},
   "outputs": [],
   "source": [
    "df3 = df2.loc[95]"
   ]
  },
  {
   "cell_type": "code",
   "execution_count": 174,
   "id": "a9b19c66",
   "metadata": {},
   "outputs": [],
   "source": [
    "country_population = df1[['country', 'population']]\n",
    "india_population = df2[df2['country'] == 'India']\n",
    "year = [x for x in range(1950, len(india_population)+1)]"
   ]
  },
  {
   "cell_type": "code",
   "execution_count": 175,
   "id": "16ae4543",
   "metadata": {},
   "outputs": [
    {
     "data": {
      "text/html": [
       "<div>\n",
       "<style scoped>\n",
       "    .dataframe tbody tr th:only-of-type {\n",
       "        vertical-align: middle;\n",
       "    }\n",
       "\n",
       "    .dataframe tbody tr th {\n",
       "        vertical-align: top;\n",
       "    }\n",
       "\n",
       "    .dataframe thead th {\n",
       "        text-align: right;\n",
       "    }\n",
       "</style>\n",
       "<table border=\"1\" class=\"dataframe\">\n",
       "  <thead>\n",
       "    <tr style=\"text-align: right;\">\n",
       "      <th></th>\n",
       "      <th>country</th>\n",
       "      <th>1950</th>\n",
       "      <th>1951</th>\n",
       "      <th>1952</th>\n",
       "      <th>1953</th>\n",
       "      <th>1954</th>\n",
       "      <th>1955</th>\n",
       "      <th>1956</th>\n",
       "      <th>1957</th>\n",
       "      <th>1958</th>\n",
       "      <th>...</th>\n",
       "      <th>2014</th>\n",
       "      <th>2015</th>\n",
       "      <th>2016</th>\n",
       "      <th>2017</th>\n",
       "      <th>2018</th>\n",
       "      <th>2019</th>\n",
       "      <th>2020</th>\n",
       "      <th>2021</th>\n",
       "      <th>2022</th>\n",
       "      <th>2023</th>\n",
       "    </tr>\n",
       "  </thead>\n",
       "  <tbody>\n",
       "    <tr>\n",
       "      <th>95</th>\n",
       "      <td>India</td>\n",
       "      <td>357021100</td>\n",
       "      <td>364922360</td>\n",
       "      <td>372997188</td>\n",
       "      <td>381227705</td>\n",
       "      <td>389731406</td>\n",
       "      <td>398577992</td>\n",
       "      <td>407656597</td>\n",
       "      <td>416935399</td>\n",
       "      <td>426295763</td>\n",
       "      <td>...</td>\n",
       "      <td>1307246509</td>\n",
       "      <td>1322866505</td>\n",
       "      <td>1338636340</td>\n",
       "      <td>1354195680</td>\n",
       "      <td>1369003306</td>\n",
       "      <td>1383112050</td>\n",
       "      <td>1396387127</td>\n",
       "      <td>1407563842</td>\n",
       "      <td>1417173173</td>\n",
       "      <td>1428627663</td>\n",
       "    </tr>\n",
       "  </tbody>\n",
       "</table>\n",
       "<p>1 rows × 75 columns</p>\n",
       "</div>"
      ],
      "text/plain": [
       "   country       1950       1951       1952       1953       1954       1955  \\\n",
       "95   India  357021100  364922360  372997188  381227705  389731406  398577992   \n",
       "\n",
       "         1956       1957       1958  ...        2014        2015        2016  \\\n",
       "95  407656597  416935399  426295763  ...  1307246509  1322866505  1338636340   \n",
       "\n",
       "          2017        2018        2019        2020        2021        2022  \\\n",
       "95  1354195680  1369003306  1383112050  1396387127  1407563842  1417173173   \n",
       "\n",
       "          2023  \n",
       "95  1428627663  \n",
       "\n",
       "[1 rows x 75 columns]"
      ]
     },
     "execution_count": 175,
     "metadata": {},
     "output_type": "execute_result"
    }
   ],
   "source": [
    "india_population"
   ]
  },
  {
   "cell_type": "code",
   "execution_count": 132,
   "id": "42ecc8b2",
   "metadata": {},
   "outputs": [
    {
     "data": {
      "text/plain": [
       "country         India\n",
       "1950        357021100\n",
       "1951        364922360\n",
       "1952        372997188\n",
       "1953        381227705\n",
       "              ...    \n",
       "2019       1383112050\n",
       "2020       1396387127\n",
       "2021       1407563842\n",
       "2022       1417173173\n",
       "2023       1428627663\n",
       "Name: 95, Length: 75, dtype: object"
      ]
     },
     "execution_count": 132,
     "metadata": {},
     "output_type": "execute_result"
    }
   ],
   "source": [
    "india_population2 = india_population.transpose()\n",
    "population_of_india = india_population2[95]\n",
    "population_of_india"
   ]
  },
  {
   "cell_type": "code",
   "execution_count": 161,
   "id": "a7883a95",
   "metadata": {},
   "outputs": [
    {
     "name": "stdout",
     "output_type": "stream",
     "text": [
      "<class 'pandas.core.frame.DataFrame'>\n",
      "Int64Index: 1 entries, 95 to 95\n",
      "Data columns (total 75 columns):\n",
      " #   Column   Non-Null Count  Dtype \n",
      "---  ------   --------------  ----- \n",
      " 0   country  1 non-null      object\n",
      " 1   1950     1 non-null      int64 \n",
      " 2   1951     1 non-null      int64 \n",
      " 3   1952     1 non-null      int64 \n",
      " 4   1953     1 non-null      int64 \n",
      " 5   1954     1 non-null      int64 \n",
      " 6   1955     1 non-null      int64 \n",
      " 7   1956     1 non-null      int64 \n",
      " 8   1957     1 non-null      int64 \n",
      " 9   1958     1 non-null      int64 \n",
      " 10  1959     1 non-null      int64 \n",
      " 11  1960     1 non-null      int64 \n",
      " 12  1961     1 non-null      int64 \n",
      " 13  1962     1 non-null      int64 \n",
      " 14  1963     1 non-null      int64 \n",
      " 15  1964     1 non-null      int64 \n",
      " 16  1965     1 non-null      int64 \n",
      " 17  1966     1 non-null      int64 \n",
      " 18  1967     1 non-null      int64 \n",
      " 19  1968     1 non-null      int64 \n",
      " 20  1969     1 non-null      int64 \n",
      " 21  1970     1 non-null      int64 \n",
      " 22  1971     1 non-null      int64 \n",
      " 23  1972     1 non-null      int64 \n",
      " 24  1973     1 non-null      int64 \n",
      " 25  1974     1 non-null      int64 \n",
      " 26  1975     1 non-null      int64 \n",
      " 27  1976     1 non-null      int64 \n",
      " 28  1977     1 non-null      int64 \n",
      " 29  1978     1 non-null      int64 \n",
      " 30  1979     1 non-null      int64 \n",
      " 31  1980     1 non-null      int64 \n",
      " 32  1981     1 non-null      int64 \n",
      " 33  1982     1 non-null      int64 \n",
      " 34  1983     1 non-null      int64 \n",
      " 35  1984     1 non-null      int64 \n",
      " 36  1985     1 non-null      int64 \n",
      " 37  1986     1 non-null      int64 \n",
      " 38  1987     1 non-null      int64 \n",
      " 39  1988     1 non-null      int64 \n",
      " 40  1989     1 non-null      int64 \n",
      " 41  1990     1 non-null      int64 \n",
      " 42  1991     1 non-null      int64 \n",
      " 43  1992     1 non-null      int64 \n",
      " 44  1993     1 non-null      int64 \n",
      " 45  1994     1 non-null      int64 \n",
      " 46  1995     1 non-null      int64 \n",
      " 47  1996     1 non-null      int64 \n",
      " 48  1997     1 non-null      int64 \n",
      " 49  1998     1 non-null      int64 \n",
      " 50  1999     1 non-null      int64 \n",
      " 51  2000     1 non-null      int64 \n",
      " 52  2001     1 non-null      int64 \n",
      " 53  2002     1 non-null      int64 \n",
      " 54  2003     1 non-null      int64 \n",
      " 55  2004     1 non-null      int64 \n",
      " 56  2005     1 non-null      int64 \n",
      " 57  2006     1 non-null      int64 \n",
      " 58  2007     1 non-null      int64 \n",
      " 59  2008     1 non-null      int64 \n",
      " 60  2009     1 non-null      int64 \n",
      " 61  2010     1 non-null      int64 \n",
      " 62  2011     1 non-null      int64 \n",
      " 63  2012     1 non-null      int64 \n",
      " 64  2013     1 non-null      int64 \n",
      " 65  2014     1 non-null      int64 \n",
      " 66  2015     1 non-null      int64 \n",
      " 67  2016     1 non-null      int64 \n",
      " 68  2017     1 non-null      int64 \n",
      " 69  2018     1 non-null      int64 \n",
      " 70  2019     1 non-null      int64 \n",
      " 71  2020     1 non-null      int64 \n",
      " 72  2021     1 non-null      int64 \n",
      " 73  2022     1 non-null      int64 \n",
      " 74  2023     1 non-null      int64 \n",
      "dtypes: int64(74), object(1)\n",
      "memory usage: 716.0+ bytes\n"
     ]
    }
   ],
   "source": [
    "india_population.info()"
   ]
  },
  {
   "cell_type": "code",
   "execution_count": 160,
   "id": "e5a04b0d",
   "metadata": {},
   "outputs": [
    {
     "data": {
      "text/plain": [
       "[<matplotlib.lines.Line2D at 0x26f2b988280>]"
      ]
     },
     "execution_count": 160,
     "metadata": {},
     "output_type": "execute_result"
    },
    {
     "data": {
      "image/png": "[encoded data removed]",
      "text/plain": [
       "<Figure size 432x288 with 1 Axes>"
      ]
     },
     "metadata": {
      "needs_background": "light"
     },
     "output_type": "display_data"
    }
   ],
   "source": [
    "plt.plot(india_population['1950'], india_population['1951'])"
   ]
  },
  {
   "cell_type": "code",
   "execution_count": null,
   "id": "b6ab84a2",
   "metadata": {},
   "outputs": [],
   "source": []
  }
 ],
 "metadata": {
  "kernelspec": {
   "display_name": "Python 3 (ipykernel)",
   "language": "python",
   "name": "python3"
  },
  "language_info": {
   "codemirror_mode": {
    "name": "ipython",
    "version": 3
   },
   "file_extension": ".py",
   "mimetype": "text/x-python",
   "name": "python",
   "nbconvert_exporter": "python",
   "pygments_lexer": "ipython3",
   "version": "3.9.7"
  }
 },
 "nbformat": 4,
 "nbformat_minor": 5
}
