{
 "cells": [
  {
   "cell_type": "code",
   "execution_count": 2,
   "id": "7fc2d3c7",
   "metadata": {},
   "outputs": [],
   "source": [
    "import pandas as pd\n",
    "import numpy as np\n",
    "import matplotlib.pyplot as plt"
   ]
  },
  {
   "cell_type": "code",
   "execution_count": 123,
   "id": "a6e751e6",
   "metadata": {},
   "outputs": [],
   "source": [
    "df1 = pd.read_csv('./data/world_population_by_country_2023.csv')\n",
    "df2 = pd.read_csv('./data/world_population_by_year_1950_2023.csv')"
   ]
  },
  {
   "cell_type": "code",
   "execution_count": 167,
   "id": "86e70afc",
   "metadata": {},
   "outputs": [],
   "source": [
    "df3 = df2.loc[95]"
   ]
  },
  {
   "cell_type": "code",
   "execution_count": 174,
   "id": "a9b19c66",
   "metadata": {},
   "outputs": [],
   "source": [
    "country_population = df1[['country', 'population']]\n",
    "india_population = df2[df2['country'] == 'India']\n",
    "year = [x for x in range(1950, len(india_population)+1)]"
   ]
  },
  {
   "cell_type": "code",
   "execution_count": 175,
   "id": "16ae4543",
   "metadata": {},
   "outputs": [
    {
     "data": {
      "text/html": [
       "<div>\n",
       "<style scoped>\n",
       "    .dataframe tbody tr th:only-of-type {\n",
       "        vertical-align: middle;\n",
       "    }\n",
       "\n",
       "    .dataframe tbody tr th {\n",
       "        vertical-align: top;\n",
       "    }\n",
       "\n",
       "    .dataframe thead th {\n",
       "        text-align: right;\n",
       "    }\n",
       "</style>\n",
       "<table border=\"1\" class=\"dataframe\">\n",
       "  <thead>\n",
       "    <tr style=\"text-align: right;\">\n",
       "      <th></th>\n",
       "      <th>country</th>\n",
       "      <th>1950</th>\n",
       "      <th>1951</th>\n",
       "      <th>1952</th>\n",
       "      <th>1953</th>\n",
       "      <th>1954</th>\n",
       "      <th>1955</th>\n",
       "      <th>1956</th>\n",
       "      <th>1957</th>\n",
       "      <th>1958</th>\n",
       "      <th>...</th>\n",
       "      <th>2014</th>\n",
       "      <th>2015</th>\n",
       "      <th>2016</th>\n",
       "      <th>2017</th>\n",
       "      <th>2018</th>\n",
       "      <th>2019</th>\n",
       "      <th>2020</th>\n",
       "      <th>2021</th>\n",
       "      <th>2022</th>\n",
       "      <th>2023</th>\n",
       "    </tr>\n",
       "  </thead>\n",
       "  <tbody>\n",
       "    <tr>\n",
       "      <th>95</th>\n",
       "      <td>India</td>\n",
       "      <td>357021100</td>\n",
       "      <td>364922360</td>\n",
       "      <td>372997188</td>\n",
       "      <td>381227705</td>\n",
       "      <td>389731406</td>\n",
       "      <td>398577992</td>\n",
       "      <td>407656597</td>\n",
       "      <td>416935399</td>\n",
       "      <td>426295763</td>\n",
       "      <td>...</td>\n",
       "      <td>1307246509</td>\n",
       "      <td>1322866505</td>\n",
       "      <td>1338636340</td>\n",
       "      <td>1354195680</td>\n",
       "      <td>1369003306</td>\n",
       "      <td>1383112050</td>\n",
       "      <td>1396387127</td>\n",
       "      <td>1407563842</td>\n",
       "      <td>1417173173</td>\n",
       "      <td>1428627663</td>\n",
       "    </tr>\n",
       "  </tbody>\n",
       "</table>\n",
       "<p>1 rows × 75 columns</p>\n",
       "</div>"
      ],
      "text/plain": [
       "   country       1950       1951       1952       1953       1954       1955  \\\n",
       "95   India  357021100  364922360  372997188  381227705  389731406  398577992   \n",
       "\n",
       "         1956       1957       1958  ...        2014        2015        2016  \\\n",
       "95  407656597  416935399  426295763  ...  1307246509  1322866505  1338636340   \n",
       "\n",
       "          2017        2018        2019        2020        2021        2022  \\\n",
       "95  1354195680  1369003306  1383112050  1396387127  1407563842  1417173173   \n",
       "\n",
       "          2023  \n",
       "95  1428627663  \n",
       "\n",
       "[1 rows x 75 columns]"
      ]
     },
     "execution_count": 175,
     "metadata": {},
     "output_type": "execute_result"
    }
   ],
   "source": [
    "india_population"
   ]
  },
  {
   "cell_type": "code",
   "execution_count": 132,
   "id": "42ecc8b2",
   "metadata": {},
   "outputs": [
    {
     "data": {
      "text/plain": [
       "country         India\n",
       "1950        357021100\n",
       "1951        364922360\n",
       "1952        372997188\n",
       "1953        381227705\n",
       "              ...    \n",
       "2019       1383112050\n",
       "2020       1396387127\n",
       "2021       1407563842\n",
       "2022       1417173173\n",
       "2023       1428627663\n",
       "Name: 95, Length: 75, dtype: object"
      ]
     },
     "execution_count": 132,
     "metadata": {},
     "output_type": "execute_result"
    }
   ],
   "source": [
    "india_population2 = india_population.transpose()\n",
    "population_of_india = india_population2[95]\n",
    "population_of_india"
   ]
  },
  {
   "cell_type": "code",
   "execution_count": 191,
   "id": "a7883a95",
   "metadata": {},
   "outputs": [],
   "source": [
    "india_population = india_population.transpose()"
   ]
  },
  {
   "cell_type": "code",
   "execution_count": 205,
   "id": "1234b520",
   "metadata": {},
   "outputs": [],
   "source": [
    "population = []\n",
    "\n",
    "for item in india_population:\n",
    "    population.append(item)\n",
    "\n",
    "population = population[1:]    \n",
    "\n",
    "year = []\n",
    "for item in range(1950, 2024):\n",
    "    year.append(item)"
   ]
  },
  {
   "cell_type": "code",
   "execution_count": 206,
   "id": "e9ece35d",
   "metadata": {},
   "outputs": [
    {
     "data": {
      "text/plain": [
       "74"
      ]
     },
     "execution_count": 206,
     "metadata": {},
     "output_type": "execute_result"
    }
   ],
   "source": [
    "len(population)"
   ]
  },
  {
   "cell_type": "code",
   "execution_count": 209,
   "id": "e30aa572",
   "metadata": {},
   "outputs": [
    {
     "data": {
      "image/png": "[encoded data removed]",
      "text/plain": [
       "<Figure size 432x288 with 1 Axes>"
      ]
     },
     "metadata": {
      "needs_background": "light"
     },
     "output_type": "display_data"
    }
   ],
   "source": [
    "plt.bar(year, population)\n",
    "plt.title(\"India population since 1950\")\n",
    "plt.show()"
   ]
  },
  {
   "cell_type": "code",
   "execution_count": null,
   "id": "67d8a58a",
   "metadata": {},
   "outputs": [],
   "source": []
  }
 ],
 "metadata": {
  "kernelspec": {
   "display_name": "Python 3 (ipykernel)",
   "language": "python",
   "name": "python3"
  },
  "language_info": {
   "codemirror_mode": {
    "name": "ipython",
    "version": 3
   },
   "file_extension": ".py",
   "mimetype": "text/x-python",
   "name": "python",
   "nbconvert_exporter": "python",
   "pygments_lexer": "ipython3",
   "version": "3.9.7"
  }
 },
 "nbformat": 4,
 "nbformat_minor": 5
}
