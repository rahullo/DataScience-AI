{
 "cells": [
  {
   "cell_type": "code",
   "execution_count": 1,
   "id": "fe2484b0",
   "metadata": {},
   "outputs": [],
   "source": [
    "import pandas as pd\n",
    "import numpy as np\n",
    "import re"
   ]
  },
  {
   "cell_type": "code",
   "execution_count": 9,
   "id": "f5b20e54",
   "metadata": {},
   "outputs": [],
   "source": [
    "text = \"foo My  name is Rahul bar\\t baz \\tqux and I am 24 years old\""
   ]
  },
  {
   "cell_type": "code",
   "execution_count": 19,
   "id": "0d9c5eb8",
   "metadata": {},
   "outputs": [
    {
     "data": {
      "text/plain": [
       "['foo',\n",
       " 'My',\n",
       " 'name',\n",
       " 'is',\n",
       " 'Rahul',\n",
       " 'bar',\n",
       " 'baz',\n",
       " 'qux',\n",
       " 'and',\n",
       " 'I',\n",
       " 'am',\n",
       " '24',\n",
       " 'years',\n",
       " 'old']"
      ]
     },
     "execution_count": 19,
     "metadata": {},
     "output_type": "execute_result"
    }
   ],
   "source": [
    "re.split('\\s+', text)"
   ]
  },
  {
   "cell_type": "code",
   "execution_count": 20,
   "id": "1afa5c9d",
   "metadata": {},
   "outputs": [],
   "source": [
    "regex = re.compile('\\D+')"
   ]
  },
  {
   "cell_type": "code",
   "execution_count": 16,
   "id": "fe72e451",
   "metadata": {},
   "outputs": [
    {
     "data": {
      "text/plain": [
       "['', '24', '']"
      ]
     },
     "execution_count": 16,
     "metadata": {},
     "output_type": "execute_result"
    }
   ],
   "source": [
    "regex.split(text)"
   ]
  },
  {
   "cell_type": "code",
   "execution_count": 21,
   "id": "ee4ad568",
   "metadata": {},
   "outputs": [],
   "source": [
    "text = \"\"\"Dave dave@google.com\n",
    "Steve steve@gmail.com\n",
    "Rob rob@gmail.com\n",
    "Ryan ryan@yahoo.com\n",
    "\"\"\"\n",
    "pattern = r'[A-Z0-9._%+-]+@[A-Z0-9.-]+\\.[A-Z]{2,4}'\n",
    "regex = re.compile(pattern, flags=re.IGNORECASE)"
   ]
  },
  {
   "cell_type": "code",
   "execution_count": 28,
   "id": "cfb6716f",
   "metadata": {},
   "outputs": [
    {
     "data": {
      "text/plain": [
       "<re.Match object; span=(5, 20), match='dave@google.com'>"
      ]
     },
     "execution_count": 28,
     "metadata": {},
     "output_type": "execute_result"
    }
   ],
   "source": [
    "regex.search(text)"
   ]
  },
  {
   "cell_type": "code",
   "execution_count": null,
   "id": "a06912ca",
   "metadata": {},
   "outputs": [],
   "source": []
  }
 ],
 "metadata": {
  "kernelspec": {
   "display_name": "Python 3 (ipykernel)",
   "language": "python",
   "name": "python3"
  },
  "language_info": {
   "codemirror_mode": {
    "name": "ipython",
    "version": 3
   },
   "file_extension": ".py",
   "mimetype": "text/x-python",
   "name": "python",
   "nbconvert_exporter": "python",
   "pygments_lexer": "ipython3",
   "version": "3.9.7"
  }
 },
 "nbformat": 4,
 "nbformat_minor": 5
}
